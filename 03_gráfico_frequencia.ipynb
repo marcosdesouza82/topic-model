{
 "cells": [
  {
   "cell_type": "markdown",
   "metadata": {},
   "source": [
    "# Gráfico de frequência de termos\n",
    "\n",
    "O gráfico apresenta os termos mais relevantes e suas respectivas frequências extraídos do corpus constituído de artivos e resumos expandidos do GT-08 entre o intervalo de 2012 a 2018.\n",
    "\n",
    "Os arquivos listados apresentam os 150 termos mais frequentes de cada ano. A partir dos resultados apresentados, foram selecioandos os termos mais relevantes do corpus. \n",
    "\n",
    "C:\\Users\\Marcos\\tese\\corpus\\enancib\\resultados\n",
    "\n",
    "corpus_gt08_2012.csv\n",
    "\n",
    "corpus_gt08_2013.csv\n",
    "\n",
    "corpus_gt08_2014.csv\n",
    "\n",
    "corpus_gt08_2015.csv\n",
    "\n",
    "corpus_gt08_2016.csv\n",
    "\n",
    "corpus_gt08_2017.csv\n",
    "\n",
    "corpus_gt08_2018.csv"
   ]
  },
  {
   "cell_type": "code",
   "execution_count": 1,
   "metadata": {},
   "outputs": [
    {
     "data": {
      "text/html": [
       "        <script type=\"text/javascript\">\n",
       "        window.PlotlyConfig = {MathJaxConfig: 'local'};\n",
       "        if (window.MathJax) {MathJax.Hub.Config({SVG: {font: \"STIX-Web\"}});}\n",
       "        if (typeof require !== 'undefined') {\n",
       "        require.undef(\"plotly\");\n",
       "        requirejs.config({\n",
       "            paths: {\n",
       "                'plotly': ['https://cdn.plot.ly/plotly-latest.min']\n",
       "            }\n",
       "        });\n",
       "        require(['plotly'], function(Plotly) {\n",
       "            window._Plotly = Plotly;\n",
       "        });\n",
       "        }\n",
       "        </script>\n",
       "        "
      ]
     },
     "metadata": {},
     "output_type": "display_data"
    }
   ],
   "source": [
    "import plotly \n",
    "import plotly.graph_objs as go\n",
    "import plotly.offline as py\n",
    "py.init_notebook_mode(connected=True)\n",
    "from plotly.offline import download_plotlyjs, init_notebook_mode, plot, iplot"
   ]
  },
  {
   "cell_type": "code",
   "execution_count": 23,
   "metadata": {},
   "outputs": [
    {
     "data": {
      "application/vnd.plotly.v1+json": {
       "config": {
        "linkText": "Export to plot.ly",
        "plotlyServerURL": "https://plot.ly",
        "showLink": false
       },
       "data": [
        {
         "mode": "markers+lines",
         "name": "Informação",
         "type": "scatter",
         "uid": "4553193c-d44f-45cd-8062-3fc6093eb087",
         "x": [
          "2012",
          "2013",
          "2014",
          "2015",
          "2016",
          "2017",
          "2018"
         ],
         "y": [
          1327,
          1630,
          5052,
          1606,
          2254,
          1962,
          2300
         ]
        },
        {
         "mode": "markers+lines",
         "name": "Dados",
         "type": "scatter",
         "uid": "34b6c16a-fed7-45c1-90e4-f87e57e7e1d0",
         "x": [
          "2012",
          "2013",
          "2014",
          "2015",
          "2016",
          "2017",
          "2018"
         ],
         "y": [
          630,
          885,
          2724,
          771,
          1183,
          1853,
          1712
         ]
        },
        {
         "mode": "markers+lines",
         "name": "Acesso",
         "type": "scatter",
         "uid": "dec10770-a4c3-4957-9cc1-29cf57c06506",
         "x": [
          "2012",
          "2013",
          "2014",
          "2015",
          "2016",
          "2017",
          "2018"
         ],
         "y": [
          539,
          590,
          1738,
          644,
          834,
          853,
          786
         ]
        },
        {
         "mode": "markers+lines",
         "name": "Web",
         "type": "scatter",
         "uid": "63c43924-b0da-4cd3-9383-984bee24ce89",
         "x": [
          "2012",
          "2013",
          "2014",
          "2015",
          "2016",
          "2017",
          "2018"
         ],
         "y": [
          487,
          584,
          1907,
          459,
          566,
          708,
          417
         ]
        },
        {
         "mode": "markers+lines",
         "name": "Digital",
         "type": "scatter",
         "uid": "26b3b3f1-0539-4fc0-879b-a840a6a68ac6",
         "x": [
          "2012",
          "2013",
          "2014",
          "2015",
          "2016",
          "2017",
          "2018"
         ],
         "y": [
          477,
          469,
          858,
          510,
          669,
          528,
          532
         ]
        },
        {
         "mode": "markers+lines",
         "name": "Pesquisa",
         "type": "scatter",
         "uid": "3029adc4-924f-4844-99f3-183a9dd0e358",
         "x": [
          "2012",
          "2013",
          "2014",
          "2015",
          "2016",
          "2017",
          "2018"
         ],
         "y": [
          447,
          464,
          1644,
          563,
          667,
          784,
          681
         ]
        },
        {
         "mode": "markers+lines",
         "name": "Usuários",
         "type": "scatter",
         "uid": "cd11b421-1785-4d43-b803-fca481079267",
         "x": [
          "2012",
          "2013",
          "2014",
          "2015",
          "2016",
          "2017",
          "2018"
         ],
         "y": [
          323,
          222,
          841,
          343,
          396,
          387,
          489
         ]
        },
        {
         "mode": "markers+lines",
         "name": "Recuperação",
         "type": "scatter",
         "uid": "eae12797-d0be-4ece-877e-e35132268725",
         "x": [
          "2012",
          "2013",
          "2014",
          "2015",
          "2016",
          "2017",
          "2018"
         ],
         "y": [
          290,
          190,
          711,
          368,
          321,
          279,
          206
         ]
        },
        {
         "mode": "markers+lines",
         "name": "Sistema",
         "type": "scatter",
         "uid": "7b1d1ce3-344a-4c0a-b69d-cc434f12b98e",
         "x": [
          "2012",
          "2013",
          "2014",
          "2015",
          "2016",
          "2017",
          "2018"
         ],
         "y": [
          290,
          253,
          824,
          280,
          326,
          299,
          278
         ]
        },
        {
         "mode": "markers+lines",
         "name": "Usabilidade",
         "type": "scatter",
         "uid": "921f2cc7-4e28-4fea-aba1-97257248637f",
         "x": [
          "2012",
          "2013",
          "2014",
          "2015",
          "2016",
          "2017",
          "2018"
         ],
         "y": [
          237,
          0,
          333,
          0,
          146,
          126,
          0
         ]
        },
        {
         "mode": "markers+lines",
         "name": "Processo",
         "type": "scatter",
         "uid": "92cc217f-4910-4487-9d65-c59a79dcc78f",
         "x": [
          "2012",
          "2013",
          "2014",
          "2015",
          "2016",
          "2017",
          "2018"
         ],
         "y": [
          231,
          162,
          377,
          299,
          337,
          305,
          246
         ]
        },
        {
         "mode": "markers+lines",
         "name": "Bibliotecas",
         "type": "scatter",
         "uid": "9d34f62b-bde7-4e1d-8a38-98955281977f",
         "x": [
          "2012",
          "2013",
          "2014",
          "2015",
          "2016",
          "2017",
          "2018"
         ],
         "y": [
          225,
          165,
          725,
          260,
          221,
          269,
          206
         ]
        },
        {
         "mode": "markers+lines",
         "name": "Conhecimento",
         "type": "scatter",
         "uid": "884f6652-eba1-438e-b38a-dbbabc2cc09d",
         "x": [
          "2012",
          "2013",
          "2014",
          "2015",
          "2016",
          "2017",
          "2018"
         ],
         "y": [
          210,
          275,
          877,
          231,
          439,
          287,
          412
         ]
        },
        {
         "mode": "markers+lines",
         "name": "Metadados",
         "type": "scatter",
         "uid": "3434f400-4863-490f-8da1-c293feb6152e",
         "x": [
          "2012",
          "2013",
          "2014",
          "2015",
          "2016",
          "2017",
          "2018"
         ],
         "y": [
          210,
          294,
          1061,
          330,
          638,
          406,
          512
         ]
        },
        {
         "mode": "markers+lines",
         "name": "Preservação",
         "type": "scatter",
         "uid": "768b2a6f-1652-4cbe-9a31-7a86143f006b",
         "x": [
          "2012",
          "2013",
          "2014",
          "2015",
          "2016",
          "2017",
          "2018"
         ],
         "y": [
          205,
          211,
          367,
          222,
          484,
          219,
          269
         ]
        },
        {
         "mode": "markers+lines",
         "name": "Representação da Informação",
         "type": "scatter",
         "uid": "88786deb-2a9b-4118-a3b4-1a4b085a669d",
         "x": [
          "2012",
          "2013",
          "2014",
          "2015",
          "2016",
          "2017",
          "2018"
         ],
         "y": [
          191,
          0,
          398,
          212,
          176,
          178,
          0
         ]
        },
        {
         "mode": "markers+lines",
         "name": "Semântica",
         "type": "scatter",
         "uid": "c9933524-586a-407c-ac03-0c0d3a8c9b79",
         "x": [
          "2012",
          "2013",
          "2014",
          "2015",
          "2016",
          "2017",
          "2018"
         ],
         "y": [
          180,
          294,
          433,
          188,
          274,
          239,
          0
         ]
        },
        {
         "mode": "markers+lines",
         "name": "Software",
         "type": "scatter",
         "uid": "930830a9-9e12-4f3d-a5ad-cffaceb4e922",
         "x": [
          "2012",
          "2013",
          "2014",
          "2015",
          "2016",
          "2017",
          "2018"
         ],
         "y": [
          157,
          0,
          400,
          120,
          140,
          0,
          234
         ]
        },
        {
         "mode": "markers+lines",
         "name": "Ontologia",
         "type": "scatter",
         "uid": "6b1432aa-5fbe-42b4-9a51-7b3fe76a1c5f",
         "x": [
          "2012",
          "2013",
          "2014",
          "2015",
          "2016",
          "2017",
          "2018"
         ],
         "y": [
          141,
          135,
          389,
          0,
          166,
          0,
          0
         ]
        },
        {
         "mode": "markers+lines",
         "name": "Acessibilidade",
         "type": "scatter",
         "uid": "2283232e-e7f5-4f30-9a15-4c2a41d80fa5",
         "x": [
          "2012",
          "2013",
          "2014",
          "2015",
          "2016",
          "2017",
          "2018"
         ],
         "y": [
          100,
          0,
          556,
          171,
          0,
          0,
          0
         ]
        }
       ],
       "layout": {
        "title": {
         "text": "Frequência dos termos relavantes",
         "x": 0,
         "xref": "paper"
        },
        "xaxis": {
         "title": {
          "font": {
           "color": "#7f7f7f",
           "family": "Courier New, monospace",
           "size": 18
          },
          "text": "x Axis"
         }
        },
        "yaxis": {
         "title": {
          "font": {
           "color": "#7f7f7f",
           "family": "Courier New, monospace",
           "size": 18
          },
          "text": "y Axis"
         }
        }
       }
      },
      "text/html": [
       "<div>\n",
       "        \n",
       "        \n",
       "            <div id=\"45a58f6f-bd6d-4c7f-b6d0-b93425b8c21d\" class=\"plotly-graph-div\" style=\"height:525px; width:100%;\"></div>\n",
       "            <script type=\"text/javascript\">\n",
       "                require([\"plotly\"], function(Plotly) {\n",
       "                    window.PLOTLYENV=window.PLOTLYENV || {};\n",
       "                    window.PLOTLYENV.BASE_URL='https://plot.ly';\n",
       "                    \n",
       "                if (document.getElementById(\"45a58f6f-bd6d-4c7f-b6d0-b93425b8c21d\")) {\n",
       "                    Plotly.newPlot(\n",
       "                        '45a58f6f-bd6d-4c7f-b6d0-b93425b8c21d',\n",
       "                        [{\"mode\": \"markers+lines\", \"name\": \"Informa\\u00e7\\u00e3o\", \"type\": \"scatter\", \"uid\": \"4553193c-d44f-45cd-8062-3fc6093eb087\", \"x\": [\"2012\", \"2013\", \"2014\", \"2015\", \"2016\", \"2017\", \"2018\"], \"y\": [1327, 1630, 5052, 1606, 2254, 1962, 2300]}, {\"mode\": \"markers+lines\", \"name\": \"Dados\", \"type\": \"scatter\", \"uid\": \"34b6c16a-fed7-45c1-90e4-f87e57e7e1d0\", \"x\": [\"2012\", \"2013\", \"2014\", \"2015\", \"2016\", \"2017\", \"2018\"], \"y\": [630, 885, 2724, 771, 1183, 1853, 1712]}, {\"mode\": \"markers+lines\", \"name\": \"Acesso\", \"type\": \"scatter\", \"uid\": \"dec10770-a4c3-4957-9cc1-29cf57c06506\", \"x\": [\"2012\", \"2013\", \"2014\", \"2015\", \"2016\", \"2017\", \"2018\"], \"y\": [539, 590, 1738, 644, 834, 853, 786]}, {\"mode\": \"markers+lines\", \"name\": \"Web\", \"type\": \"scatter\", \"uid\": \"63c43924-b0da-4cd3-9383-984bee24ce89\", \"x\": [\"2012\", \"2013\", \"2014\", \"2015\", \"2016\", \"2017\", \"2018\"], \"y\": [487, 584, 1907, 459, 566, 708, 417]}, {\"mode\": \"markers+lines\", \"name\": \"Digital\", \"type\": \"scatter\", \"uid\": \"26b3b3f1-0539-4fc0-879b-a840a6a68ac6\", \"x\": [\"2012\", \"2013\", \"2014\", \"2015\", \"2016\", \"2017\", \"2018\"], \"y\": [477, 469, 858, 510, 669, 528, 532]}, {\"mode\": \"markers+lines\", \"name\": \"Pesquisa\", \"type\": \"scatter\", \"uid\": \"3029adc4-924f-4844-99f3-183a9dd0e358\", \"x\": [\"2012\", \"2013\", \"2014\", \"2015\", \"2016\", \"2017\", \"2018\"], \"y\": [447, 464, 1644, 563, 667, 784, 681]}, {\"mode\": \"markers+lines\", \"name\": \"Usu\\u00e1rios\", \"type\": \"scatter\", \"uid\": \"cd11b421-1785-4d43-b803-fca481079267\", \"x\": [\"2012\", \"2013\", \"2014\", \"2015\", \"2016\", \"2017\", \"2018\"], \"y\": [323, 222, 841, 343, 396, 387, 489]}, {\"mode\": \"markers+lines\", \"name\": \"Recupera\\u00e7\\u00e3o\", \"type\": \"scatter\", \"uid\": \"eae12797-d0be-4ece-877e-e35132268725\", \"x\": [\"2012\", \"2013\", \"2014\", \"2015\", \"2016\", \"2017\", \"2018\"], \"y\": [290, 190, 711, 368, 321, 279, 206]}, {\"mode\": \"markers+lines\", \"name\": \"Sistema\", \"type\": \"scatter\", \"uid\": \"7b1d1ce3-344a-4c0a-b69d-cc434f12b98e\", \"x\": [\"2012\", \"2013\", \"2014\", \"2015\", \"2016\", \"2017\", \"2018\"], \"y\": [290, 253, 824, 280, 326, 299, 278]}, {\"mode\": \"markers+lines\", \"name\": \"Usabilidade\", \"type\": \"scatter\", \"uid\": \"921f2cc7-4e28-4fea-aba1-97257248637f\", \"x\": [\"2012\", \"2013\", \"2014\", \"2015\", \"2016\", \"2017\", \"2018\"], \"y\": [237, 0, 333, 0, 146, 126, 0]}, {\"mode\": \"markers+lines\", \"name\": \"Processo\", \"type\": \"scatter\", \"uid\": \"92cc217f-4910-4487-9d65-c59a79dcc78f\", \"x\": [\"2012\", \"2013\", \"2014\", \"2015\", \"2016\", \"2017\", \"2018\"], \"y\": [231, 162, 377, 299, 337, 305, 246]}, {\"mode\": \"markers+lines\", \"name\": \"Bibliotecas\", \"type\": \"scatter\", \"uid\": \"9d34f62b-bde7-4e1d-8a38-98955281977f\", \"x\": [\"2012\", \"2013\", \"2014\", \"2015\", \"2016\", \"2017\", \"2018\"], \"y\": [225, 165, 725, 260, 221, 269, 206]}, {\"mode\": \"markers+lines\", \"name\": \"Conhecimento\", \"type\": \"scatter\", \"uid\": \"884f6652-eba1-438e-b38a-dbbabc2cc09d\", \"x\": [\"2012\", \"2013\", \"2014\", \"2015\", \"2016\", \"2017\", \"2018\"], \"y\": [210, 275, 877, 231, 439, 287, 412]}, {\"mode\": \"markers+lines\", \"name\": \"Metadados\", \"type\": \"scatter\", \"uid\": \"3434f400-4863-490f-8da1-c293feb6152e\", \"x\": [\"2012\", \"2013\", \"2014\", \"2015\", \"2016\", \"2017\", \"2018\"], \"y\": [210, 294, 1061, 330, 638, 406, 512]}, {\"mode\": \"markers+lines\", \"name\": \"Preserva\\u00e7\\u00e3o\", \"type\": \"scatter\", \"uid\": \"768b2a6f-1652-4cbe-9a31-7a86143f006b\", \"x\": [\"2012\", \"2013\", \"2014\", \"2015\", \"2016\", \"2017\", \"2018\"], \"y\": [205, 211, 367, 222, 484, 219, 269]}, {\"mode\": \"markers+lines\", \"name\": \"Representa\\u00e7\\u00e3o da Informa\\u00e7\\u00e3o\", \"type\": \"scatter\", \"uid\": \"88786deb-2a9b-4118-a3b4-1a4b085a669d\", \"x\": [\"2012\", \"2013\", \"2014\", \"2015\", \"2016\", \"2017\", \"2018\"], \"y\": [191, 0, 398, 212, 176, 178, 0]}, {\"mode\": \"markers+lines\", \"name\": \"Sem\\u00e2ntica\", \"type\": \"scatter\", \"uid\": \"c9933524-586a-407c-ac03-0c0d3a8c9b79\", \"x\": [\"2012\", \"2013\", \"2014\", \"2015\", \"2016\", \"2017\", \"2018\"], \"y\": [180, 294, 433, 188, 274, 239, 0]}, {\"mode\": \"markers+lines\", \"name\": \"Software\", \"type\": \"scatter\", \"uid\": \"930830a9-9e12-4f3d-a5ad-cffaceb4e922\", \"x\": [\"2012\", \"2013\", \"2014\", \"2015\", \"2016\", \"2017\", \"2018\"], \"y\": [157, 0, 400, 120, 140, 0, 234]}, {\"mode\": \"markers+lines\", \"name\": \"Ontologia\", \"type\": \"scatter\", \"uid\": \"6b1432aa-5fbe-42b4-9a51-7b3fe76a1c5f\", \"x\": [\"2012\", \"2013\", \"2014\", \"2015\", \"2016\", \"2017\", \"2018\"], \"y\": [141, 135, 389, 0, 166, 0, 0]}, {\"mode\": \"markers+lines\", \"name\": \"Acessibilidade\", \"type\": \"scatter\", \"uid\": \"2283232e-e7f5-4f30-9a15-4c2a41d80fa5\", \"x\": [\"2012\", \"2013\", \"2014\", \"2015\", \"2016\", \"2017\", \"2018\"], \"y\": [100, 0, 556, 171, 0, 0, 0]}],\n",
       "                        {\"title\": {\"text\": \"Frequ\\u00eancia dos termos relavantes\", \"x\": 0, \"xref\": \"paper\"}, \"xaxis\": {\"title\": {\"font\": {\"color\": \"#7f7f7f\", \"family\": \"Courier New, monospace\", \"size\": 18}, \"text\": \"x Axis\"}}, \"yaxis\": {\"title\": {\"font\": {\"color\": \"#7f7f7f\", \"family\": \"Courier New, monospace\", \"size\": 18}, \"text\": \"y Axis\"}}},\n",
       "                        {\"showLink\": false, \"linkText\": \"Export to plot.ly\", \"plotlyServerURL\": \"https://plot.ly\", \"responsive\": true}\n",
       "                    ).then(function(){\n",
       "                            \n",
       "var gd = document.getElementById('45a58f6f-bd6d-4c7f-b6d0-b93425b8c21d');\n",
       "var x = new MutationObserver(function (mutations, observer) {{\n",
       "        var display = window.getComputedStyle(gd).display;\n",
       "        if (!display || display === 'none') {{\n",
       "            console.log([gd, 'removed!']);\n",
       "            Plotly.purge(gd);\n",
       "            observer.disconnect();\n",
       "        }}\n",
       "}});\n",
       "\n",
       "// Listen for the removal of the full notebook cells\n",
       "var notebookContainer = gd.closest('#notebook-container');\n",
       "if (notebookContainer) {{\n",
       "    x.observe(notebookContainer, {childList: true});\n",
       "}}\n",
       "\n",
       "// Listen for the clearing of the current output cell\n",
       "var outputEl = gd.closest('.output');\n",
       "if (outputEl) {{\n",
       "    x.observe(outputEl, {childList: true});\n",
       "}}\n",
       "\n",
       "                        })\n",
       "                };\n",
       "                });\n",
       "            </script>\n",
       "        </div>"
      ]
     },
     "metadata": {},
     "output_type": "display_data"
    }
   ],
   "source": [
    "trace1 = go.Scatter(x = ['2012', '2013', '2014', '2015', '2016', '2017', '2018'],\n",
    "                    y = [1327, 1630, 5052, 1606, 2254, 1962, 2300],\n",
    "                    mode = 'markers+lines',\n",
    "                    name = 'Informação')\n",
    "trace2 = go.Scatter(x = ['2012', '2013', '2014', '2015', '2016', '2017', '2018'],\n",
    "                    y = [630, 885, 2724, 771, 1183, 1853, 1712],\n",
    "                    mode = 'markers+lines',\n",
    "                    name = 'Dados')\n",
    "trace3 = go.Scatter(x = ['2012', '2013', '2014', '2015', '2016', '2017', '2018'],\n",
    "                    y = [539, 590, 1738 , 644, 834, 853, 786],\n",
    "                    mode = 'markers+lines',\n",
    "                    name = 'Acesso')\n",
    "trace4 = go.Scatter(x = ['2012', '2013', '2014', '2015', '2016', '2017', '2018'],\n",
    "                    y = [487, 584, 1907, 459, 566, 708, 417],\n",
    "                    mode = 'markers+lines',\n",
    "                    name = 'Web')\n",
    "trace5 = go.Scatter(x = ['2012', '2013', '2014', '2015', '2016', '2017', '2018'],\n",
    "                    y = [477, 469, 858, 510, 669, 528, 532],\n",
    "                    mode = 'markers+lines',\n",
    "                    name = 'Digital')\n",
    "trace6 = go.Scatter(x = ['2012', '2013', '2014', '2015', '2016', '2017', '2018'],\n",
    "                    y = [447, 464, 1644, 563, 667, 784, 681],\n",
    "                    mode = 'markers+lines',\n",
    "                    name = 'Pesquisa')\n",
    "trace7 = go.Scatter(x = ['2012', '2013', '2014', '2015', '2016', '2017', '2018'],\n",
    "                    y = [323, 222, 841, 343, 396, 387, 489],\n",
    "                    mode = 'markers+lines',\n",
    "                    name = 'Usuários')\n",
    "trace8 = go.Scatter(x = ['2012', '2013', '2014', '2015', '2016', '2017', '2018'],\n",
    "                    y = [290, 190, 711, 368, 321, 279, 206],\n",
    "                    mode = 'markers+lines',\n",
    "                    name = 'Recuperação')\n",
    "trace9 = go.Scatter(x = ['2012', '2013', '2014', '2015', '2016', '2017', '2018'],\n",
    "                    y = [290, 253, 824, 280, 326, 299, 278],\n",
    "                    mode = 'markers+lines',\n",
    "                    name = 'Sistema')\n",
    "trace10 = go.Scatter(x = ['2012', '2013', '2014', '2015', '2016', '2017', '2018'],\n",
    "                    y = [237, 0, 333, 0, 146, 126, 0],\n",
    "                    mode = 'markers+lines',\n",
    "                    name = 'Usabilidade')\n",
    "trace11 = go.Scatter(x = ['2012', '2013', '2014', '2015', '2016', '2017', '2018'],\n",
    "                    y = [231, 162, 377, 299, 337, 305, 246],\n",
    "                    mode = 'markers+lines',\n",
    "                    name = 'Processo')\n",
    "trace12 = go.Scatter(x = ['2012', '2013', '2014', '2015', '2016', '2017', '2018'],\n",
    "                    y = [225, 165, 725, 260, 221, 269, 206],\n",
    "                    mode = 'markers+lines',\n",
    "                    name = 'Bibliotecas')\n",
    "trace13 = go.Scatter(x = ['2012', '2013', '2014', '2015', '2016', '2017', '2018'],\n",
    "                    y = [210, 275, 877, 231, 439, 287, 412],\n",
    "                    mode = 'markers+lines',\n",
    "                    name = 'Conhecimento')\n",
    "trace14 = go.Scatter(x = ['2012', '2013', '2014', '2015', '2016', '2017', '2018'],\n",
    "                    y = [210, 294, 1061, 330, 638, 406, 512],\n",
    "                    mode = 'markers+lines',\n",
    "                    name = 'Metadados')\n",
    "trace15 = go.Scatter(x = ['2012', '2013', '2014', '2015', '2016', '2017', '2018'],\n",
    "                    y = [205, 211, 367, 222, 484, 219, 269],\n",
    "                    mode = 'markers+lines',\n",
    "                    name = 'Preservação')\n",
    "trace16 = go.Scatter(x = ['2012', '2013', '2014', '2015', '2016', '2017', '2018'],\n",
    "                    y = [191, 0, 398, 212, 176, 178, 0],\n",
    "                    mode = 'markers+lines',\n",
    "                    name = 'Representação da Informação')\n",
    "trace17 = go.Scatter(x = ['2012', '2013', '2014', '2015', '2016', '2017', '2018'],\n",
    "                    y = [180, 294, 433, 188, 274, 239, 0],\n",
    "                    mode = 'markers+lines',\n",
    "                    name = 'Semântica')\n",
    "trace18 = go.Scatter(x = ['2012', '2013', '2014', '2015', '2016', '2017', '2018'],\n",
    "                    y = [157, 0, 400, 120, 140, 0, 234],\n",
    "                    mode = 'markers+lines',\n",
    "                    name = 'Software')\n",
    "trace19 = go.Scatter(x = ['2012', '2013', '2014', '2015', '2016', '2017', '2018'],\n",
    "                    y = [141, 135, 389, 0, 166, 0, 0],\n",
    "                    mode = 'markers+lines',\n",
    "                    name = 'Ontologia')\n",
    "trace20 = go.Scatter(x = ['2012', '2013', '2014', '2015', '2016', '2017', '2018'],\n",
    "                    y = [100, 0, 556, 171, 0, 0, 0],\n",
    "                    mode = 'markers+lines',\n",
    "                    name = 'Acessibilidade')\n",
    "\n",
    "data = [trace1, trace2, trace3, trace4, trace5, trace6, trace7, trace8, trace9, trace10, \n",
    "       trace11, trace12, trace13, trace14, trace15, trace16, trace17, trace18, trace19, trace20]\n",
    "\n",
    "layout = go.Layout(\n",
    "    title=go.layout.Title(\n",
    "        text='Frequência dos termos relavantes',\n",
    "        xref='paper',\n",
    "        x=0\n",
    "    ),\n",
    "    xaxis=go.layout.XAxis(\n",
    "        title=go.layout.xaxis.Title(\n",
    "            text='x Axis',\n",
    "            font=dict(\n",
    "                family='Courier New, monospace',\n",
    "                size=18,\n",
    "                color='#7f7f7f'\n",
    "            )\n",
    "        )\n",
    "    ),\n",
    "    yaxis=go.layout.YAxis(\n",
    "        title=go.layout.yaxis.Title(\n",
    "            text='y Axis',\n",
    "            font=dict(\n",
    "                family='Courier New, monospace',\n",
    "                size=18,\n",
    "                color='#7f7f7f'\n",
    "            )\n",
    "        )\n",
    "    )\n",
    ")\n",
    "\n",
    "fig = go.Figure(data=data, layout=layout)\n",
    "py.iplot(fig, filename='styling-names')\n"
   ]
  }
 ],
 "metadata": {
  "kernelspec": {
   "display_name": "Python 3",
   "language": "python",
   "name": "python3"
  },
  "language_info": {
   "codemirror_mode": {
    "name": "ipython",
    "version": 3
   },
   "file_extension": ".py",
   "mimetype": "text/x-python",
   "name": "python",
   "nbconvert_exporter": "python",
   "pygments_lexer": "ipython3",
   "version": "3.6.6"
  }
 },
 "nbformat": 4,
 "nbformat_minor": 2
}
