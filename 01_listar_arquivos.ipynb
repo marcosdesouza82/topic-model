{
 "cells": [
  {
   "cell_type": "markdown",
   "metadata": {},
   "source": [
    "## Listar arquivos\n",
    "\n",
    "Função para listar nome e a extensão dos documentos contidos num diretório e seus respectivos subdiretórios conforme apontamento.\n",
    "\n",
    "Posteriormete é gerado um arquivo texto contendo o caminho, nome e extensão dos documentos encontrados."
   ]
  },
  {
   "cell_type": "code",
   "execution_count": 2,
   "metadata": {},
   "outputs": [],
   "source": [
    "import io\n",
    "import os"
   ]
  },
  {
   "cell_type": "code",
   "execution_count": 3,
   "metadata": {},
   "outputs": [],
   "source": [
    "pastas = os.listdir()\n",
    "total = 0\n",
    "def listar_pasta(pasta):\n",
    "    tot = 0\n",
    "    subpastas = list()\n",
    "    if os.path.isdir(pasta):\n",
    "        items = os.listdir(pasta)\n",
    "        for item in items:\n",
    "            novo_item = os.path.join(pasta,item)\n",
    "            if os.path.isdir(novo_item):\n",
    "                subpastas.append(novo_item)\n",
    "                continue\n",
    "            print(item)\n",
    "            arq.write(str(pasta).upper() + \"/\" + item + \"\\n\")\n",
    "            tot += 1\n",
    "        for subpasta in subpastas:\n",
    "            tot += listar_pasta(subpasta)\n",
    "   # arq.write(\"\\n\")\n",
    "    return tot\n"
   ]
  },
  {
   "cell_type": "code",
   "execution_count": 29,
   "metadata": {},
   "outputs": [
    {
     "name": "stdout",
     "output_type": "stream",
     "text": [
      "1196.pdf\n",
      "1197.pdf\n",
      "1198.pdf\n",
      "1199.pdf\n",
      "1200.pdf\n",
      "1201.pdf\n",
      "1202.pdf\n",
      "1203.pdf\n",
      "1204.pdf\n",
      "1205.pdf\n",
      "1206.pdf\n",
      "1207.pdf\n",
      "1208.pdf\n",
      "1209.pdf\n",
      "1210.pdf\n",
      "1211.pdf\n",
      "1212.pdf\n",
      "1213.pdf\n",
      "1214.pdf\n",
      "1215.pdf\n",
      "1216.pdf\n",
      "1217.pdf\n",
      "1218.pdf\n",
      "1219.pdf\n",
      "1220.pdf\n"
     ]
    },
    {
     "data": {
      "text/plain": [
       "25"
      ]
     },
     "execution_count": 29,
     "metadata": {},
     "output_type": "execute_result"
    }
   ],
   "source": [
    "pasta = \"unb\"\n",
    "caminho=\"C:/Users/Marcos/tese/tesesdissertacoes/2017/\" + pasta\n",
    "arq = open(\"lista_dir_tesesdissertacoes_2017_\" + pasta + \".txt\", \"w\",encoding=\"utf-8\")\n",
    "listar_pasta(caminho)"
   ]
  }
 ],
 "metadata": {
  "kernelspec": {
   "display_name": "Python 3",
   "language": "python",
   "name": "python3"
  },
  "language_info": {
   "codemirror_mode": {
    "name": "ipython",
    "version": 3
   },
   "file_extension": ".py",
   "mimetype": "text/x-python",
   "name": "python",
   "nbconvert_exporter": "python",
   "pygments_lexer": "ipython3",
   "version": "3.6.6"
  }
 },
 "nbformat": 4,
 "nbformat_minor": 2
}
